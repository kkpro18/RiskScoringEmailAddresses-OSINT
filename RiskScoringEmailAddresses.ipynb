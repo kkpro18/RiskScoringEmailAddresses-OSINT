{
 "cells": [
  {
   "cell_type": "code",
   "id": "initial_id",
   "metadata": {
    "collapsed": true,
    "ExecuteTime": {
     "end_time": "2024-06-03T16:41:50.902725Z",
     "start_time": "2024-06-03T16:41:50.895677Z"
    }
   },
   "source": [
    "import pandas as pd\n",
    "import matplotlib.pyplot as plt\n",
    "import requests\n",
    "from bs4 import BeautifulSoup\n",
    "%matplotlib inline\n"
   ],
   "outputs": [],
   "execution_count": 29
  },
  {
   "metadata": {
    "ExecuteTime": {
     "end_time": "2024-06-03T16:41:50.915017Z",
     "start_time": "2024-06-03T16:41:50.907808Z"
    }
   },
   "cell_type": "code",
   "source": "data = pd.read_csv(\"data.csv\")",
   "id": "acbe395983cffdd5",
   "outputs": [],
   "execution_count": 30
  },
  {
   "metadata": {
    "ExecuteTime": {
     "end_time": "2024-06-03T16:41:50.934439Z",
     "start_time": "2024-06-03T16:41:50.918466Z"
    }
   },
   "cell_type": "code",
   "source": "data.head()",
   "id": "1130a0dc1ff4f269",
   "outputs": [
    {
     "data": {
      "text/plain": [
       "                          email              name\n",
       "0          john.doe@example.com          John Doe\n",
       "1          jane.smith@gmail.com        Jane Smith\n",
       "2  alice.wonderland@company.org  Alice Wonderland\n",
       "3  bob.builder@construction.com       Bob Builder\n",
       "4       charlie.brown@yahoo.com     Charlie Brown"
      ],
      "text/html": [
       "<div>\n",
       "<style scoped>\n",
       "    .dataframe tbody tr th:only-of-type {\n",
       "        vertical-align: middle;\n",
       "    }\n",
       "\n",
       "    .dataframe tbody tr th {\n",
       "        vertical-align: top;\n",
       "    }\n",
       "\n",
       "    .dataframe thead th {\n",
       "        text-align: right;\n",
       "    }\n",
       "</style>\n",
       "<table border=\"1\" class=\"dataframe\">\n",
       "  <thead>\n",
       "    <tr style=\"text-align: right;\">\n",
       "      <th></th>\n",
       "      <th>email</th>\n",
       "      <th>name</th>\n",
       "    </tr>\n",
       "  </thead>\n",
       "  <tbody>\n",
       "    <tr>\n",
       "      <th>0</th>\n",
       "      <td>john.doe@example.com</td>\n",
       "      <td>John Doe</td>\n",
       "    </tr>\n",
       "    <tr>\n",
       "      <th>1</th>\n",
       "      <td>jane.smith@gmail.com</td>\n",
       "      <td>Jane Smith</td>\n",
       "    </tr>\n",
       "    <tr>\n",
       "      <th>2</th>\n",
       "      <td>alice.wonderland@company.org</td>\n",
       "      <td>Alice Wonderland</td>\n",
       "    </tr>\n",
       "    <tr>\n",
       "      <th>3</th>\n",
       "      <td>bob.builder@construction.com</td>\n",
       "      <td>Bob Builder</td>\n",
       "    </tr>\n",
       "    <tr>\n",
       "      <th>4</th>\n",
       "      <td>charlie.brown@yahoo.com</td>\n",
       "      <td>Charlie Brown</td>\n",
       "    </tr>\n",
       "  </tbody>\n",
       "</table>\n",
       "</div>"
      ]
     },
     "execution_count": 31,
     "metadata": {},
     "output_type": "execute_result"
    }
   ],
   "execution_count": 31
  },
  {
   "metadata": {
    "ExecuteTime": {
     "end_time": "2024-06-03T16:41:53.669510Z",
     "start_time": "2024-06-03T16:41:50.940037Z"
    }
   },
   "cell_type": "code",
   "source": [
    "base_url = \"https://talosintelligence.com/reputation_center/lookup?search=\"\n",
    "talos_intelligence = []\n",
    "\n",
    "for email in data.email:\n",
    "    print(\"Scraping Page\")\n",
    "    url = f\"{base_url}{email}\"\n",
    "    print(url)\n",
    "    response = requests.get(url)\n",
    "    \n",
    "    if response.status_code == 200:\n",
    "        print(\"Successful response from the URL\")\n",
    "        content = response.content\n",
    "        parsed_content = BeautifulSoup(content, \"html.parser\")\n",
    "        \n",
    "    for para in parsed_content.find_all(\"div\", {\"class\": \"text_content\"}):\n",
    "        talos_intelligence.append(para.get_text())\n",
    "        print(f\"   ---> {len(talos_intelligence)} total data\")"
   ],
   "id": "a887e9a615cd0b8",
   "outputs": [
    {
     "name": "stdout",
     "output_type": "stream",
     "text": [
      "Scraping Page\n",
      "https://talosintelligence.com/reputation_center/lookup?search=john.doe@example.com\n",
      "Successful response from the URL\n",
      "Scraping Page\n",
      "https://talosintelligence.com/reputation_center/lookup?search=jane.smith@gmail.com\n",
      "Successful response from the URL\n",
      "Scraping Page\n",
      "https://talosintelligence.com/reputation_center/lookup?search=alice.wonderland@company.org\n",
      "Successful response from the URL\n",
      "Scraping Page\n",
      "https://talosintelligence.com/reputation_center/lookup?search=bob.builder@construction.com\n",
      "Successful response from the URL\n",
      "Scraping Page\n",
      "https://talosintelligence.com/reputation_center/lookup?search=charlie.brown@yahoo.com\n",
      "Successful response from the URL\n",
      "Scraping Page\n",
      "https://talosintelligence.com/reputation_center/lookup?search=emily.dickinson@poetry.net\n",
      "Successful response from the URL\n",
      "Scraping Page\n",
      "https://talosintelligence.com/reputation_center/lookup?search=frank.castle@punisher.com\n",
      "Successful response from the URL\n",
      "Scraping Page\n",
      "https://talosintelligence.com/reputation_center/lookup?search=grace.hopper@navy.mil\n",
      "Successful response from the URL\n",
      "Scraping Page\n",
      "https://talosintelligence.com/reputation_center/lookup?search=harry.potter@hogwarts.edu\n",
      "Successful response from the URL\n",
      "Scraping Page\n",
      "https://talosintelligence.com/reputation_center/lookup?search=ivan.drakov@spymail.ru\n",
      "Successful response from the URL\n"
     ]
    }
   ],
   "execution_count": 32
  },
  {
   "metadata": {
    "ExecuteTime": {
     "end_time": "2024-06-03T17:10:41.118135Z",
     "start_time": "2024-06-03T17:10:36.063428Z"
    }
   },
   "cell_type": "code",
   "source": [
    "import requests\n",
    "from bs4 import BeautifulSoup\n",
    "\n",
    "base_url = \"https://who.is/whois/\"\n",
    "who_is = []\n",
    "\n",
    "for email in data.email:\n",
    "    domain = email.split(\"@\")[1]\n",
    "    print(\"Scraping Page\")\n",
    "    url = f\"{base_url}{domain}\"\n",
    "    print(url)\n",
    "    response = requests.get(url)\n",
    "    \n",
    "    if response.status_code == 200:\n",
    "        print(\"Successful response from the URL\")\n",
    "        content = response.content\n",
    "        parsed_content = BeautifulSoup(content, \"html.parser\")\n",
    "\n",
    "        # Initialize variables to store extracted information\n",
    "        name = \"\"\n",
    "        whois_server = \"\"\n",
    "        referral_url = \"\"\n",
    "        expires_on = \"\"\n",
    "        registered_on = \"\"\n",
    "        updated_on = \"\"\n",
    "\n",
    "        # Extract registrar info\n",
    "        registrar_info = parsed_content.find_all(\"div\", class_=\"queryResponseBodyRow\")\n",
    "        for item in registrar_info:\n",
    "            key_element = item.find(\"div\", class_=\"queryResponseBodyKey\")\n",
    "            if key_element:\n",
    "                key = key_element.text.strip()\n",
    "                value_element = item.find(\"div\", class_=\"queryResponseBodyValue\")\n",
    "                if value_element:\n",
    "                    value = value_element.text.strip()\n",
    "                    if key == \"Name\":\n",
    "                        name = value\n",
    "                    elif key == \"Whois Server\":\n",
    "                        whois_server = value\n",
    "                    elif key == \"Referral URL\":\n",
    "                        referral_url = value\n",
    "        \n",
    "        # Extract important dates\n",
    "        important_dates = parsed_content.find(\"div\", class_=\"row hidden\")\n",
    "        if important_dates:\n",
    "            dates = important_dates.find_all(\"div\", class_=\"queryResponseBodyRow\")\n",
    "            for date in dates:\n",
    "                key_element = date.find(\"div\", class_=\"queryResponseBodyKey\")\n",
    "                if key_element:\n",
    "                    key = key_element.text.strip()\n",
    "                    value_element = date.find(\"div\", class_=\"queryResponseBodyValue\")\n",
    "                    if value_element:\n",
    "                        value = value_element.text.strip()\n",
    "                        if key == \"Expires On\":\n",
    "                            expires_on = value\n",
    "                        elif key == \"Registered On\":\n",
    "                            registered_on = value\n",
    "                        elif key == \"Updated On\":\n",
    "                            updated_on = value\n",
    "\n",
    "        # Append extracted information to the list\n",
    "        who_is.append({\n",
    "            \"Name\": name,\n",
    "            \"Whois Server\": whois_server,\n",
    "            \"Referral URL\": referral_url,\n",
    "            \"Expires On\": expires_on,\n",
    "            \"Registered On\": registered_on,\n",
    "            \"Updated On\": updated_on\n",
    "        })\n",
    "\n",
    "        print(f\"   ---> {len(who_is)} total data\")\n"
   ],
   "id": "8011696f34d8b854",
   "outputs": [
    {
     "name": "stdout",
     "output_type": "stream",
     "text": [
      "Scraping Page\n",
      "https://who.is/whois/example.com\n",
      "Successful response from the URL\n",
      "   ---> 1 total data\n",
      "Scraping Page\n",
      "https://who.is/whois/gmail.com\n",
      "Successful response from the URL\n",
      "   ---> 2 total data\n",
      "Scraping Page\n",
      "https://who.is/whois/company.org\n",
      "Successful response from the URL\n",
      "   ---> 3 total data\n",
      "Scraping Page\n",
      "https://who.is/whois/construction.com\n",
      "Successful response from the URL\n",
      "   ---> 4 total data\n",
      "Scraping Page\n",
      "https://who.is/whois/yahoo.com\n",
      "Successful response from the URL\n",
      "   ---> 5 total data\n",
      "Scraping Page\n",
      "https://who.is/whois/poetry.net\n",
      "Successful response from the URL\n",
      "   ---> 6 total data\n",
      "Scraping Page\n",
      "https://who.is/whois/punisher.com\n",
      "Successful response from the URL\n",
      "   ---> 7 total data\n",
      "Scraping Page\n",
      "https://who.is/whois/navy.mil\n",
      "Successful response from the URL\n",
      "   ---> 8 total data\n",
      "Scraping Page\n",
      "https://who.is/whois/hogwarts.edu\n",
      "Successful response from the URL\n",
      "   ---> 9 total data\n",
      "Scraping Page\n",
      "https://who.is/whois/spymail.ru\n",
      "Successful response from the URL\n",
      "   ---> 10 total data\n"
     ]
    }
   ],
   "execution_count": 52
  },
  {
   "metadata": {
    "ExecuteTime": {
     "end_time": "2024-06-03T17:10:43.360224Z",
     "start_time": "2024-06-03T17:10:43.354523Z"
    }
   },
   "cell_type": "code",
   "source": "print(who_is)",
   "id": "c6a8597fa00ab16f",
   "outputs": [
    {
     "name": "stdout",
     "output_type": "stream",
     "text": [
      "[{'Name': '', 'Whois Server': '', 'Referral URL': '', 'Expires On': '', 'Registered On': '', 'Updated On': ''}, {'Name': 'MarkMonitor, Inc.', 'Whois Server': 'whois.markmonitor.com', 'Referral URL': 'http://www.markmonitor.com', 'Expires On': '', 'Registered On': '', 'Updated On': ''}, {'Name': 'Domain.com, LLC', 'Whois Server': 'http://whois.domain.com', 'Referral URL': 'http://www.domain.com', 'Expires On': '', 'Registered On': '', 'Updated On': ''}, {'Name': 'Amazon Registrar, Inc.', 'Whois Server': 'whois.registrar.amazon', 'Referral URL': 'https://registrar.amazon.com', 'Expires On': '', 'Registered On': '', 'Updated On': ''}, {'Name': 'MarkMonitor, Inc.', 'Whois Server': 'whois.markmonitor.com', 'Referral URL': 'http://www.markmonitor.com', 'Expires On': '', 'Registered On': '', 'Updated On': ''}, {'Name': 'GoDaddy.com, LLC', 'Whois Server': 'whois.godaddy.com', 'Referral URL': 'https://www.godaddy.com', 'Expires On': '', 'Registered On': '', 'Updated On': ''}, {'Name': 'CSC CORPORATE DOMAINS, INC.', 'Whois Server': 'whois.corporatedomains.com', 'Referral URL': 'www.cscprotectsbrands.com', 'Expires On': '', 'Registered On': '', 'Updated On': ''}, {'Name': '', 'Whois Server': '', 'Referral URL': '', 'Expires On': '', 'Registered On': '', 'Updated On': ''}, {'Name': '', 'Whois Server': '', 'Referral URL': '', 'Expires On': '', 'Registered On': '', 'Updated On': ''}, {'Name': 'REGRU-RU', 'Whois Server': '', 'Referral URL': '', 'Expires On': '', 'Registered On': '', 'Updated On': ''}]\n"
     ]
    }
   ],
   "execution_count": 53
  },
  {
   "metadata": {},
   "cell_type": "code",
   "outputs": [],
   "execution_count": null,
   "source": "",
   "id": "b16ff6fdf0f339aa"
  }
 ],
 "metadata": {
  "kernelspec": {
   "display_name": "Python 3",
   "language": "python",
   "name": "python3"
  },
  "language_info": {
   "codemirror_mode": {
    "name": "ipython",
    "version": 2
   },
   "file_extension": ".py",
   "mimetype": "text/x-python",
   "name": "python",
   "nbconvert_exporter": "python",
   "pygments_lexer": "ipython2",
   "version": "2.7.6"
  }
 },
 "nbformat": 4,
 "nbformat_minor": 5
}
